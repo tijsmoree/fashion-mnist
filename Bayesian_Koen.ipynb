{
 "cells": [
  {
   "source": [
    "# Fashion MNIST Bayesian\n",
    "\n",
    "What it means and what you can do about it!"
   ],
   "cell_type": "markdown",
   "metadata": {}
  },
  {
   "source": [
    "import matplotlib.pyplot as plt\n",
    "import numpy as np\n",
    "import torch\n",
    "import torch.nn as nn\n",
    "import torch.nn.functional as F\n",
    "import torchvision\n",
    "import torchvision.transforms as transforms\n",
    "from torch.utils.tensorboard import SummaryWriter\n",
    "\n",
    "from blitz.modules import BayesianLinear, BayesianConv2d\n",
    "from blitz.losses import kl_divergence_from_nn\n",
    "from blitz.utils import variational_estimator\n",
    "\n",
    "trainset = torchvision.datasets.FashionMNIST(root='./data', train=True,\n",
    "                                             download=True,\n",
    "                                             transform=transforms.Compose([transforms.ToTensor()]))\n",
    "trainloader = torch.utils.data.DataLoader(trainset, batch_size=4,\n",
    "                                          shuffle=True, num_workers=2)\n",
    "\n",
    "testset = torchvision.datasets.FashionMNIST(root='./data', train=False,\n",
    "                                            download=True,\n",
    "                                            transform=transforms.Compose([transforms.ToTensor()]))\n",
    "testloader = torch.utils.data.DataLoader(testset, batch_size=4,\n",
    "                                         shuffle=False, num_workers=2)\n",
    "\n",
    "classes = (\n",
    "    'T-shirt/top',\n",
    "    'Trouser',\n",
    "    'Pullover',\n",
    "    'Dress',\n",
    "    'Coat',\n",
    "    'Sandal',\n",
    "    'Shirt',\n",
    "    'Sneaker',\n",
    "    'Bag',\n",
    "    'Ankle boot'\n",
    ")\n",
    "\n",
    "def imshow(img):\n",
    "    img = img / 2 + 0.5     # unnormalize\n",
    "    npimg = img.numpy()\n",
    "    plt.imshow(np.transpose(npimg, (1, 2, 0)))\n",
    "    plt.show()\n",
    "\n",
    "# Initialize tensorboard\n",
    "writer = SummaryWriter('runs/fashion_mnist')\n",
    "\n",
    "\n",
    "# get some random training images\n",
    "dataiter = iter(trainloader)\n",
    "testImages, testLabels = dataiter.next()\n",
    "\n",
    "# show images\n",
    "imshow(torchvision.utils.make_grid(testImages))\n",
    "# print labels\n",
    "print(' '.join('%5s' % classes[testLabels[j]] for j in range(4)))"
   ],
   "cell_type": "code",
   "metadata": {},
   "execution_count": 1,
   "outputs": [
    {
     "data": {
      "text/plain": "<Figure size 432x288 with 1 Axes>",
      "image/png": "[encoded data removed]"
     },
     "metadata": {
      "needs_background": "light"
     },
     "output_type": "display_data"
    },
    {
     "name": "stdout",
     "output_type": "stream",
     "text": [
      " Coat Sneaker   Bag Sandal\n"
     ]
    }
   ]
  },
  {
   "source": [
    "# 2. Define a convolutional neural network\n"
   ],
   "cell_type": "markdown",
   "metadata": {}
  },
  {
   "cell_type": "code",
   "execution_count": 2,
   "metadata": {},
   "outputs": [],
   "source": [
    "@variational_estimator\n",
    "class BayesianCNN(nn.Module):\n",
    "    def __init__(self):\n",
    "        super().__init__()\n",
    "        self.conv1 = BayesianConv2d(1, 6, (5,5)) # 6 filters, size 5x5,            output size = 24x24\n",
    "        self.pool = nn.MaxPool2d(2,2)\n",
    "        self.conv2 = BayesianConv2d(6,16, (3,3)) # 16 filters, size 3x3,           outSize = 10x10\n",
    "\n",
    "        # Define function\n",
    "        self.fc1 = BayesianLinear(16*5*5, 160)\n",
    "        self.fc2 = BayesianLinear(160, 120)\n",
    "        self.fc3 = BayesianLinear(120, 84)\n",
    "        self.fc4 = BayesianLinear(84, 10)\n",
    "\n",
    "    def forward(self, x):\n",
    "        # First convolution and max pooling\n",
    "        x = self.pool(F.relu(self.conv1(x)))\n",
    "        x = self.pool(F.relu(self.conv2(x)))\n",
    "        x = x.view(-1, 16*5*5)\n",
    "        x = F.relu(self.fc1(x))\n",
    "        x = F.relu(self.fc2(x))\n",
    "        x = F.relu(self.fc3(x))\n",
    "        x = self.fc4(x)\n",
    "        return x\n",
    "\n",
    "def evaluate_classifier(classifier, inputs, samples=10, std_multiplier=2):\n",
    "    mean, std = classifier.mfvi_forward(inputs, samples)\n",
    "\n",
    "    return mean, std\n",
    "\n",
    "\n"
   ]
  },
  {
   "source": [
    "# 3. Define a Loss function and optimizer and train the network"
   ],
   "cell_type": "markdown",
   "metadata": {}
  },
  {
   "cell_type": "code",
   "execution_count": 9,
   "metadata": {},
   "outputs": [
    {
     "name": "stdout",
     "output_type": "stream",
     "text": [
      "[0,     0] loss: 11.222\n",
      "The accuracy is: 10.0 %\n",
      "[0,  1000] loss: 9.198\n",
      "The accuracy is: 73.47 %\n",
      "[0,  2000] loss: 7.396\n",
      "The accuracy is: 76.97 %\n",
      "[0,  3000] loss: 7.066\n",
      "The accuracy is: 78.58 %\n",
      "[0,  4000] loss: 7.260\n",
      "The accuracy is: 78.86 %\n",
      "[0,  5000] loss: 5.097\n",
      "The accuracy is: 78.83 %\n",
      "[0,  6000] loss: 4.628\n",
      "The accuracy is: 79.65 %\n",
      "[0,  7000] loss: 4.922\n",
      "The accuracy is: 82.49 %\n",
      "[0,  8000] loss: 3.487\n",
      "The accuracy is: 82.73 %\n"
     ]
    },
    {
     "ename": "KeyboardInterrupt",
     "evalue": "",
     "output_type": "error",
     "traceback": [
      "\u001B[0;31m---------------------------------------------------------------------------\u001B[0m",
      "\u001B[0;31mKeyboardInterrupt\u001B[0m                         Traceback (most recent call last)",
      "\u001B[0;32m<ipython-input-9-f9d18dd3d3b4>\u001B[0m in \u001B[0;36m<module>\u001B[0;34m\u001B[0m\n\u001B[1;32m     16\u001B[0m \u001B[0;34m\u001B[0m\u001B[0m\n\u001B[1;32m     17\u001B[0m         \u001B[0;31m# forward + backward + optimize\u001B[0m\u001B[0;34m\u001B[0m\u001B[0;34m\u001B[0m\u001B[0;34m\u001B[0m\u001B[0m\n\u001B[0;32m---> 18\u001B[0;31m         loss = classifier.sample_elbo(inputs=inputs.to(device),\n\u001B[0m\u001B[1;32m     19\u001B[0m         \u001B[0mlabels\u001B[0m\u001B[0;34m=\u001B[0m\u001B[0mlabels\u001B[0m\u001B[0;34m.\u001B[0m\u001B[0mto\u001B[0m\u001B[0;34m(\u001B[0m\u001B[0mdevice\u001B[0m\u001B[0;34m)\u001B[0m\u001B[0;34m,\u001B[0m\u001B[0;34m\u001B[0m\u001B[0;34m\u001B[0m\u001B[0m\n\u001B[1;32m     20\u001B[0m         \u001B[0mcriterion\u001B[0m\u001B[0;34m=\u001B[0m\u001B[0mcriterion\u001B[0m\u001B[0;34m,\u001B[0m\u001B[0;34m\u001B[0m\u001B[0;34m\u001B[0m\u001B[0m\n",
      "\u001B[0;32m~/.local/lib/python3.8/site-packages/blitz/utils/variational_estimator.py\u001B[0m in \u001B[0;36msample_elbo\u001B[0;34m(self, inputs, labels, criterion, sample_nbr, complexity_cost_weight)\u001B[0m\n\u001B[1;32m     63\u001B[0m         \u001B[0mloss\u001B[0m \u001B[0;34m=\u001B[0m \u001B[0;36m0\u001B[0m\u001B[0;34m\u001B[0m\u001B[0;34m\u001B[0m\u001B[0m\n\u001B[1;32m     64\u001B[0m         \u001B[0;32mfor\u001B[0m \u001B[0m_\u001B[0m \u001B[0;32min\u001B[0m \u001B[0mrange\u001B[0m\u001B[0;34m(\u001B[0m\u001B[0msample_nbr\u001B[0m\u001B[0;34m)\u001B[0m\u001B[0;34m:\u001B[0m\u001B[0;34m\u001B[0m\u001B[0;34m\u001B[0m\u001B[0m\n\u001B[0;32m---> 65\u001B[0;31m             \u001B[0moutputs\u001B[0m \u001B[0;34m=\u001B[0m \u001B[0mself\u001B[0m\u001B[0;34m(\u001B[0m\u001B[0minputs\u001B[0m\u001B[0;34m)\u001B[0m\u001B[0;34m\u001B[0m\u001B[0;34m\u001B[0m\u001B[0m\n\u001B[0m\u001B[1;32m     66\u001B[0m             \u001B[0mloss\u001B[0m \u001B[0;34m+=\u001B[0m \u001B[0mcriterion\u001B[0m\u001B[0;34m(\u001B[0m\u001B[0moutputs\u001B[0m\u001B[0;34m,\u001B[0m \u001B[0mlabels\u001B[0m\u001B[0;34m)\u001B[0m\u001B[0;34m\u001B[0m\u001B[0;34m\u001B[0m\u001B[0m\n\u001B[1;32m     67\u001B[0m             \u001B[0mloss\u001B[0m \u001B[0;34m+=\u001B[0m \u001B[0mself\u001B[0m\u001B[0;34m.\u001B[0m\u001B[0mnn_kl_divergence\u001B[0m\u001B[0;34m(\u001B[0m\u001B[0;34m)\u001B[0m \u001B[0;34m*\u001B[0m \u001B[0mcomplexity_cost_weight\u001B[0m\u001B[0;34m\u001B[0m\u001B[0;34m\u001B[0m\u001B[0m\n",
      "\u001B[0;32m~/.local/lib/python3.8/site-packages/torch/nn/modules/module.py\u001B[0m in \u001B[0;36m_call_impl\u001B[0;34m(self, *input, **kwargs)\u001B[0m\n\u001B[1;32m    887\u001B[0m             \u001B[0mresult\u001B[0m \u001B[0;34m=\u001B[0m \u001B[0mself\u001B[0m\u001B[0;34m.\u001B[0m\u001B[0m_slow_forward\u001B[0m\u001B[0;34m(\u001B[0m\u001B[0;34m*\u001B[0m\u001B[0minput\u001B[0m\u001B[0;34m,\u001B[0m \u001B[0;34m**\u001B[0m\u001B[0mkwargs\u001B[0m\u001B[0;34m)\u001B[0m\u001B[0;34m\u001B[0m\u001B[0;34m\u001B[0m\u001B[0m\n\u001B[1;32m    888\u001B[0m         \u001B[0;32melse\u001B[0m\u001B[0;34m:\u001B[0m\u001B[0;34m\u001B[0m\u001B[0;34m\u001B[0m\u001B[0m\n\u001B[0;32m--> 889\u001B[0;31m             \u001B[0mresult\u001B[0m \u001B[0;34m=\u001B[0m \u001B[0mself\u001B[0m\u001B[0;34m.\u001B[0m\u001B[0mforward\u001B[0m\u001B[0;34m(\u001B[0m\u001B[0;34m*\u001B[0m\u001B[0minput\u001B[0m\u001B[0;34m,\u001B[0m \u001B[0;34m**\u001B[0m\u001B[0mkwargs\u001B[0m\u001B[0;34m)\u001B[0m\u001B[0;34m\u001B[0m\u001B[0;34m\u001B[0m\u001B[0m\n\u001B[0m\u001B[1;32m    890\u001B[0m         for hook in itertools.chain(\n\u001B[1;32m    891\u001B[0m                 \u001B[0m_global_forward_hooks\u001B[0m\u001B[0;34m.\u001B[0m\u001B[0mvalues\u001B[0m\u001B[0;34m(\u001B[0m\u001B[0;34m)\u001B[0m\u001B[0;34m,\u001B[0m\u001B[0;34m\u001B[0m\u001B[0;34m\u001B[0m\u001B[0m\n",
      "\u001B[0;32m<ipython-input-2-f01c0fe73002>\u001B[0m in \u001B[0;36mforward\u001B[0;34m(self, x)\u001B[0m\n\u001B[1;32m     18\u001B[0m         \u001B[0mx\u001B[0m \u001B[0;34m=\u001B[0m \u001B[0mself\u001B[0m\u001B[0;34m.\u001B[0m\u001B[0mpool\u001B[0m\u001B[0;34m(\u001B[0m\u001B[0mF\u001B[0m\u001B[0;34m.\u001B[0m\u001B[0mrelu\u001B[0m\u001B[0;34m(\u001B[0m\u001B[0mself\u001B[0m\u001B[0;34m.\u001B[0m\u001B[0mconv2\u001B[0m\u001B[0;34m(\u001B[0m\u001B[0mx\u001B[0m\u001B[0;34m)\u001B[0m\u001B[0;34m)\u001B[0m\u001B[0;34m)\u001B[0m\u001B[0;34m\u001B[0m\u001B[0;34m\u001B[0m\u001B[0m\n\u001B[1;32m     19\u001B[0m         \u001B[0mx\u001B[0m \u001B[0;34m=\u001B[0m \u001B[0mx\u001B[0m\u001B[0;34m.\u001B[0m\u001B[0mview\u001B[0m\u001B[0;34m(\u001B[0m\u001B[0;34m-\u001B[0m\u001B[0;36m1\u001B[0m\u001B[0;34m,\u001B[0m \u001B[0;36m16\u001B[0m\u001B[0;34m*\u001B[0m\u001B[0;36m5\u001B[0m\u001B[0;34m*\u001B[0m\u001B[0;36m5\u001B[0m\u001B[0;34m)\u001B[0m\u001B[0;34m\u001B[0m\u001B[0;34m\u001B[0m\u001B[0m\n\u001B[0;32m---> 20\u001B[0;31m         \u001B[0mx\u001B[0m \u001B[0;34m=\u001B[0m \u001B[0mF\u001B[0m\u001B[0;34m.\u001B[0m\u001B[0mrelu\u001B[0m\u001B[0;34m(\u001B[0m\u001B[0mself\u001B[0m\u001B[0;34m.\u001B[0m\u001B[0mfc1\u001B[0m\u001B[0;34m(\u001B[0m\u001B[0mx\u001B[0m\u001B[0;34m)\u001B[0m\u001B[0;34m)\u001B[0m\u001B[0;34m\u001B[0m\u001B[0;34m\u001B[0m\u001B[0m\n\u001B[0m\u001B[1;32m     21\u001B[0m         \u001B[0mx\u001B[0m \u001B[0;34m=\u001B[0m \u001B[0mF\u001B[0m\u001B[0;34m.\u001B[0m\u001B[0mrelu\u001B[0m\u001B[0;34m(\u001B[0m\u001B[0mself\u001B[0m\u001B[0;34m.\u001B[0m\u001B[0mfc2\u001B[0m\u001B[0;34m(\u001B[0m\u001B[0mx\u001B[0m\u001B[0;34m)\u001B[0m\u001B[0;34m)\u001B[0m\u001B[0;34m\u001B[0m\u001B[0;34m\u001B[0m\u001B[0m\n\u001B[1;32m     22\u001B[0m         \u001B[0mx\u001B[0m \u001B[0;34m=\u001B[0m \u001B[0mF\u001B[0m\u001B[0;34m.\u001B[0m\u001B[0mrelu\u001B[0m\u001B[0;34m(\u001B[0m\u001B[0mself\u001B[0m\u001B[0;34m.\u001B[0m\u001B[0mfc3\u001B[0m\u001B[0;34m(\u001B[0m\u001B[0mx\u001B[0m\u001B[0;34m)\u001B[0m\u001B[0;34m)\u001B[0m\u001B[0;34m\u001B[0m\u001B[0;34m\u001B[0m\u001B[0m\n",
      "\u001B[0;32m~/.local/lib/python3.8/site-packages/torch/nn/modules/module.py\u001B[0m in \u001B[0;36m_call_impl\u001B[0;34m(self, *input, **kwargs)\u001B[0m\n\u001B[1;32m    887\u001B[0m             \u001B[0mresult\u001B[0m \u001B[0;34m=\u001B[0m \u001B[0mself\u001B[0m\u001B[0;34m.\u001B[0m\u001B[0m_slow_forward\u001B[0m\u001B[0;34m(\u001B[0m\u001B[0;34m*\u001B[0m\u001B[0minput\u001B[0m\u001B[0;34m,\u001B[0m \u001B[0;34m**\u001B[0m\u001B[0mkwargs\u001B[0m\u001B[0;34m)\u001B[0m\u001B[0;34m\u001B[0m\u001B[0;34m\u001B[0m\u001B[0m\n\u001B[1;32m    888\u001B[0m         \u001B[0;32melse\u001B[0m\u001B[0;34m:\u001B[0m\u001B[0;34m\u001B[0m\u001B[0;34m\u001B[0m\u001B[0m\n\u001B[0;32m--> 889\u001B[0;31m             \u001B[0mresult\u001B[0m \u001B[0;34m=\u001B[0m \u001B[0mself\u001B[0m\u001B[0;34m.\u001B[0m\u001B[0mforward\u001B[0m\u001B[0;34m(\u001B[0m\u001B[0;34m*\u001B[0m\u001B[0minput\u001B[0m\u001B[0;34m,\u001B[0m \u001B[0;34m**\u001B[0m\u001B[0mkwargs\u001B[0m\u001B[0;34m)\u001B[0m\u001B[0;34m\u001B[0m\u001B[0;34m\u001B[0m\u001B[0m\n\u001B[0m\u001B[1;32m    890\u001B[0m         for hook in itertools.chain(\n\u001B[1;32m    891\u001B[0m                 \u001B[0m_global_forward_hooks\u001B[0m\u001B[0;34m.\u001B[0m\u001B[0mvalues\u001B[0m\u001B[0;34m(\u001B[0m\u001B[0;34m)\u001B[0m\u001B[0;34m,\u001B[0m\u001B[0;34m\u001B[0m\u001B[0;34m\u001B[0m\u001B[0m\n",
      "\u001B[0;32m~/.local/lib/python3.8/site-packages/blitz/modules/linear_bayesian_layer.py\u001B[0m in \u001B[0;36mforward\u001B[0;34m(self, x)\u001B[0m\n\u001B[1;32m     90\u001B[0m \u001B[0;34m\u001B[0m\u001B[0m\n\u001B[1;32m     91\u001B[0m         \u001B[0;31m# Get the complexity cost\u001B[0m\u001B[0;34m\u001B[0m\u001B[0;34m\u001B[0m\u001B[0;34m\u001B[0m\u001B[0m\n\u001B[0;32m---> 92\u001B[0;31m         \u001B[0mself\u001B[0m\u001B[0;34m.\u001B[0m\u001B[0mlog_variational_posterior\u001B[0m \u001B[0;34m=\u001B[0m \u001B[0mself\u001B[0m\u001B[0;34m.\u001B[0m\u001B[0mweight_sampler\u001B[0m\u001B[0;34m.\u001B[0m\u001B[0mlog_posterior\u001B[0m\u001B[0;34m(\u001B[0m\u001B[0;34m)\u001B[0m \u001B[0;34m+\u001B[0m \u001B[0mb_log_posterior\u001B[0m\u001B[0;34m\u001B[0m\u001B[0;34m\u001B[0m\u001B[0m\n\u001B[0m\u001B[1;32m     93\u001B[0m         \u001B[0mself\u001B[0m\u001B[0;34m.\u001B[0m\u001B[0mlog_prior\u001B[0m \u001B[0;34m=\u001B[0m \u001B[0mself\u001B[0m\u001B[0;34m.\u001B[0m\u001B[0mweight_prior_dist\u001B[0m\u001B[0;34m.\u001B[0m\u001B[0mlog_prior\u001B[0m\u001B[0;34m(\u001B[0m\u001B[0mw\u001B[0m\u001B[0;34m)\u001B[0m \u001B[0;34m+\u001B[0m \u001B[0mb_log_prior\u001B[0m\u001B[0;34m\u001B[0m\u001B[0;34m\u001B[0m\u001B[0m\n\u001B[1;32m     94\u001B[0m \u001B[0;34m\u001B[0m\u001B[0m\n",
      "\u001B[0;32m~/.local/lib/python3.8/site-packages/blitz/modules/weight_sampler.py\u001B[0m in \u001B[0;36mlog_posterior\u001B[0;34m(self, w)\u001B[0m\n\u001B[1;32m     48\u001B[0m \u001B[0;34m\u001B[0m\u001B[0m\n\u001B[1;32m     49\u001B[0m         \u001B[0mlog_sqrt2pi\u001B[0m \u001B[0;34m=\u001B[0m \u001B[0mnp\u001B[0m\u001B[0;34m.\u001B[0m\u001B[0mlog\u001B[0m\u001B[0;34m(\u001B[0m\u001B[0mnp\u001B[0m\u001B[0;34m.\u001B[0m\u001B[0msqrt\u001B[0m\u001B[0;34m(\u001B[0m\u001B[0;36m2\u001B[0m\u001B[0;34m*\u001B[0m\u001B[0mself\u001B[0m\u001B[0;34m.\u001B[0m\u001B[0mpi\u001B[0m\u001B[0;34m)\u001B[0m\u001B[0;34m)\u001B[0m\u001B[0;34m\u001B[0m\u001B[0;34m\u001B[0m\u001B[0m\n\u001B[0;32m---> 50\u001B[0;31m         \u001B[0mlog_posteriors\u001B[0m \u001B[0;34m=\u001B[0m  \u001B[0;34m-\u001B[0m\u001B[0mlog_sqrt2pi\u001B[0m \u001B[0;34m-\u001B[0m \u001B[0mtorch\u001B[0m\u001B[0;34m.\u001B[0m\u001B[0mlog\u001B[0m\u001B[0;34m(\u001B[0m\u001B[0mself\u001B[0m\u001B[0;34m.\u001B[0m\u001B[0msigma\u001B[0m\u001B[0;34m)\u001B[0m \u001B[0;34m-\u001B[0m \u001B[0;34m(\u001B[0m\u001B[0;34m(\u001B[0m\u001B[0;34m(\u001B[0m\u001B[0mw\u001B[0m \u001B[0;34m-\u001B[0m \u001B[0mself\u001B[0m\u001B[0;34m.\u001B[0m\u001B[0mmu\u001B[0m\u001B[0;34m)\u001B[0m \u001B[0;34m**\u001B[0m \u001B[0;36m2\u001B[0m\u001B[0;34m)\u001B[0m\u001B[0;34m/\u001B[0m\u001B[0;34m(\u001B[0m\u001B[0;36m2\u001B[0m \u001B[0;34m*\u001B[0m \u001B[0mself\u001B[0m\u001B[0;34m.\u001B[0m\u001B[0msigma\u001B[0m \u001B[0;34m**\u001B[0m \u001B[0;36m2\u001B[0m\u001B[0;34m)\u001B[0m\u001B[0;34m)\u001B[0m \u001B[0;34m-\u001B[0m \u001B[0;36m0.5\u001B[0m\u001B[0;34m\u001B[0m\u001B[0;34m\u001B[0m\u001B[0m\n\u001B[0m\u001B[1;32m     51\u001B[0m         \u001B[0;32mreturn\u001B[0m \u001B[0mlog_posteriors\u001B[0m\u001B[0;34m.\u001B[0m\u001B[0msum\u001B[0m\u001B[0;34m(\u001B[0m\u001B[0;34m)\u001B[0m\u001B[0;34m\u001B[0m\u001B[0;34m\u001B[0m\u001B[0m\n\u001B[1;32m     52\u001B[0m \u001B[0;34m\u001B[0m\u001B[0m\n",
      "\u001B[0;31mKeyboardInterrupt\u001B[0m: "
     ]
    }
   ],
   "source": [
    "import torch.optim as optim\n",
    "\n",
    "device = torch.device('cuda' if torch.cuda.is_available() else 'cpu')\n",
    "classifier = BayesianCNN().to(device)\n",
    "criterion = nn.CrossEntropyLoss()\n",
    "optimizer = optim.Adam(classifier.parameters(), lr=0.001)\n",
    "plot_step = 0\n",
    "\n",
    "for epoch in range (2):\n",
    "    for i, data in enumerate(trainloader, 0):\n",
    "        # get the inputs; data is a list of [inputs, labels]\n",
    "        inputs, labels = data\n",
    "\n",
    "        # zero the parameter gradients\n",
    "        optimizer.zero_grad()\n",
    "\n",
    "        # forward + backward + optimize\n",
    "        loss = classifier.sample_elbo(inputs=inputs.to(device),\n",
    "        labels=labels.to(device),\n",
    "        criterion=criterion,\n",
    "        sample_nbr=3,\n",
    "        complexity_cost_weight = 1/50000)\n",
    "\n",
    "        loss.backward()\n",
    "        optimizer.step()\n",
    "\n",
    "        if i % 1000 == 0:\n",
    "            # Add data to tensorboard\n",
    "            writer.add_scalar(\"Loss/train\", loss, plot_step)\n",
    "\n",
    "            #preds, means, stds = evaluate_classifier(classifier, testImages, testLabels)\n",
    "\n",
    "            #print(means)\n",
    "\n",
    "            correct = 0\n",
    "            total = 0\n",
    "            with torch.no_grad():\n",
    "                for data in testloader:\n",
    "                    images, labels = data\n",
    "                    outputs = classifier(images.to(device))\n",
    "                    _, predicted = torch.max(outputs.data, 1)\n",
    "                    total += labels.size(0)\n",
    "                    correct += (predicted == labels.to(device)).sum().item()\n",
    "            print('[%d, %5d] loss: %.3f' % (epoch, i, loss))\n",
    "            print(\"The accuracy is: {} %\".format(str(100* correct / total)))\n",
    "            plot_step = plot_step + 1\n",
    "\n",
    "print('Finished training')\n",
    "writer.flush()\n",
    "\n",
    "# Save data\n",
    "PATH = './model/trained_koen_bay.pth'\n",
    "torch.save(classifier.state_dict(), PATH)\n",
    "\n"
   ]
  },
  {
   "source": [
    "# 4. Test the network"
   ],
   "cell_type": "markdown",
   "metadata": {}
  },
  {
   "cell_type": "code",
   "execution_count": 6,
   "metadata": {},
   "outputs": [
    {
     "name": "stdout",
     "output_type": "stream",
     "text": [
      "ONE OUTPUT\n",
      "tensor([[-3.6837, -3.5927, -2.5350, -3.9797, -4.2509,  2.6424, -2.4252,  1.4292,\n",
      "         -2.5144,  7.0875],\n",
      "        [-0.8598, -6.1144,  8.3285, -3.1799,  0.8843, -5.9954,  1.4155, -6.6778,\n",
      "         -4.3638, -4.2566],\n",
      "        [-1.5203,  8.2249, -1.7604,  0.9802,  0.0374, -3.6055, -0.1236, -4.9866,\n",
      "         -2.4712, -5.6948],\n",
      "        [-1.8253,  5.1077, -1.6065,  1.9061,  1.7429, -4.3672, -0.0858, -4.7473,\n",
      "         -1.9330, -5.8069]], grad_fn=<AddmmBackward>)\n",
      "MEAN:\n",
      "tensor([[-3.4169, -3.4407, -2.2179, -3.6713, -4.2889,  2.7923, -2.5056,  1.2942,\n",
      "         -2.7123,  6.8118],\n",
      "        [-0.8746, -5.8627,  8.1155, -2.8387,  1.0160, -5.8624,  1.2154, -7.0833,\n",
      "         -4.1781, -4.4004],\n",
      "        [-1.1917,  8.7598, -1.5080,  0.2780, -0.4766, -3.8423, -0.2732, -5.3000,\n",
      "         -2.5659, -5.4304],\n",
      "        [-1.5364,  5.9222, -1.4249,  1.3785,  1.1339, -4.4479, -0.2964, -4.8783,\n",
      "         -1.9390, -5.6204]], grad_fn=<MeanBackward1>)\n",
      "STANDARD DEVIATION:\n",
      "tensor([[0.1744, 0.3290, 0.2183, 0.3056, 0.4208, 0.2793, 0.2763, 0.2342, 0.2418,\n",
      "         0.3461],\n",
      "        [0.1785, 0.3075, 0.2843, 0.1518, 0.2299, 0.3907, 0.1653, 0.3531, 0.3144,\n",
      "         0.4685],\n",
      "        [0.3834, 0.5252, 0.3517, 0.4530, 0.3792, 0.4651, 0.2714, 0.3480, 0.5069,\n",
      "         0.4769],\n",
      "        [0.2842, 0.4497, 0.3205, 0.3816, 0.4302, 0.4179, 0.2002, 0.3254, 0.4664,\n",
      "         0.4411]], grad_fn=<StdBackward1>)\n",
      "Ground truth:  9.000000 2.000000 1.000000 1.000000\n",
      "The accuracy is: 82.5 %\n",
      "tensor([0.2149, 0.4300, 0.1937, 0.2166, 0.1598, 0.3928, 0.1493, 0.2784, 0.3241,\n",
      "        0.3559])\n",
      "(tensor([0.1866, 0.2829, 0.1813, 0.2028, 0.1907, 0.4556, 0.1860, 0.2732, 0.2875,\n",
      "        0.4438]),)\n"
     ]
    },
    {
     "data": {
      "text/plain": "<Figure size 432x288 with 1 Axes>",
      "image/png": "[encoded data removed]"
     },
     "metadata": {
      "needs_background": "light"
     },
     "output_type": "display_data"
    }
   ],
   "source": [
    "PATH = './model/trained_koen_bay.pth'\n",
    "device = torch.device('cuda' if torch.cuda.is_available() else 'cpu')\n",
    "dataiter = iter(testloader)\n",
    "images, labels = dataiter.next()\n",
    "\n",
    "# load the trained model\n",
    "classifier = BayesianCNN()\n",
    "classifier.load_state_dict(torch.load(PATH))\n",
    "\n",
    "outputs = classifier(images.to(device))\n",
    "\n",
    "mean, std = classifier.mfvi_forward(images)\n",
    "\n",
    "#print(pred)\n",
    "print(\"ONE OUTPUT\")\n",
    "print(outputs)\n",
    "print(\"MEAN:\")\n",
    "print(mean)\n",
    "print(\"STANDARD DEVIATION:\")\n",
    "print(std)\n",
    "\n",
    "# pints images\n",
    "imshow(torchvision.utils.make_grid(images))\n",
    "print('Ground truth: ', ' '.join('%5f' % labels[j] for j in range(4)))\n",
    "\n",
    "correct = 0\n",
    "total = 0\n",
    "total_false_std = torch.zeros(10)\n",
    "total_true_std = torch.zeros(10)\n",
    "true_amount = torch.zeros(10)\n",
    "false_amount = torch.zeros(10)\n",
    "with torch.no_grad():\n",
    "    for data in testloader:\n",
    "        # stop if too long busy\n",
    "        if total >= 1000:\n",
    "            break\n",
    "\n",
    "        images, labels = data\n",
    "        mean, std = classifier.mfvi_forward(images.to(device), 30)\n",
    "        _, predicted = torch.max(mean, 1)\n",
    "        total += labels.size(0)\n",
    "        correct += (predicted == labels.to(device)).sum().item()\n",
    "        # divide true from false indices\n",
    "        for i in range(4):\n",
    "            if predicted[i] == labels[i]:\n",
    "                k = labels[i].item()\n",
    "                total_true_std[k] = total_true_std[k] + std[i,k]\n",
    "                true_amount[k] = true_amount[k] + 1\n",
    "            else:\n",
    "                k = labels[i].item()\n",
    "                total_false_std[k] = total_false_std[k] + std[i,k]\n",
    "                false_amount[k] = false_amount[k] + 1\n",
    "\n",
    "mean_yes_std = total_true_std / true_amount\n",
    "mean_not_std = total_false_std / false_amount,\n",
    "print(\"The accuracy is: {} %\".format(str(100* correct / total)))\n",
    "print(mean_yes_std)\n",
    "print(mean_not_std)\n"
   ]
  },
  {
   "source": [
    "# 4. Create tensorboard\n"
   ],
   "cell_type": "markdown",
   "metadata": {}
  },
  {
   "cell_type": "code",
   "execution_count": 55,
   "metadata": {},
   "outputs": [
    {
     "output_type": "display_data",
     "data": {
      "text/plain": "<Figure size 432x288 with 1 Axes>",
      "image/svg+xml": "<?xml version=\"1.0\" encoding=\"utf-8\" standalone=\"no\"?>\n<!DOCTYPE svg PUBLIC \"-//W3C//DTD SVG 1.1//EN\"\n  \"http://www.w3.org/Graphics/SVG/1.1/DTD/svg11.dtd\">\n<!-- Created with matplotlib (https://matplotlib.org/) -->\n<svg height=\"121.321606pt\" version=\"1.1\" viewBox=\"0 0 374.352357 121.321606\" width=\"374.352357pt\" xmlns=\"http://www.w3.org/2000/svg\" xmlns:xlink=\"http://www.w3.org/1999/xlink\">\n <defs>\n  <style type=\"text/css\">\n*{stroke-linecap:butt;stroke-linejoin:round;}\n  </style>\n </defs>\n <g id=\"figure_1\">\n  <g id=\"patch_1\">\n   <path d=\"M -0 121.321606 \nL 374.352357 121.321606 \nL 374.352357 0 \nL -0 0 \nz\n\" style=\"fill:none;\"/>\n  </g>\n  <g id=\"axes_1\">\n   <g id=\"patch_2\">\n    <path d=\"M 26.925 97.443481 \nL 361.725 97.443481 \nL 361.725 9.627088 \nL 26.925 9.627088 \nz\n\" style=\"fill:#ffffff;\"/>\n   </g>\n   <g clip-path=\"url(#pceb23ee948)\">\n    <image height=\"88\" id=\"imagebfe7f57701\" transform=\"scale(1 -1)translate(0 -88)\" width=\"335\" x=\"26.925\" xlink:href=\"data:image/png;base64,\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\" y=\"-9.443481\"/>\n   </g>\n   <g id=\"matplotlib.axis_1\">\n    <g id=\"xtick_1\">\n     <g id=\"line2d_1\">\n      <defs>\n       <path d=\"M 0 0 \nL 0 3.5 \n\" id=\"md8877f4696\" style=\"stroke:#000000;stroke-width:0.8;\"/>\n      </defs>\n      <g>\n       <use style=\"stroke:#000000;stroke-width:0.8;\" x=\"28.297131\" xlink:href=\"#md8877f4696\" y=\"97.443481\"/>\n      </g>\n     </g>\n     <g id=\"text_1\">\n      <!-- 0 -->\n      <defs>\n       <path d=\"M 31.78125 66.40625 \nQ 24.171875 66.40625 20.328125 58.90625 \nQ 16.5 51.421875 16.5 36.375 \nQ 16.5 21.390625 20.328125 13.890625 \nQ 24.171875 6.390625 31.78125 6.390625 \nQ 39.453125 6.390625 43.28125 13.890625 \nQ 47.125 21.390625 47.125 36.375 \nQ 47.125 51.421875 43.28125 58.90625 \nQ 39.453125 66.40625 31.78125 66.40625 \nz\nM 31.78125 74.21875 \nQ 44.046875 74.21875 50.515625 64.515625 \nQ 56.984375 54.828125 56.984375 36.375 \nQ 56.984375 17.96875 50.515625 8.265625 \nQ 44.046875 -1.421875 31.78125 -1.421875 \nQ 19.53125 -1.421875 13.0625 8.265625 \nQ 6.59375 17.96875 6.59375 36.375 \nQ 6.59375 54.828125 13.0625 64.515625 \nQ 19.53125 74.21875 31.78125 74.21875 \nz\n\" id=\"DejaVuSans-48\"/>\n      </defs>\n      <g transform=\"translate(25.115881 112.041919)scale(0.1 -0.1)\">\n       <use xlink:href=\"#DejaVuSans-48\"/>\n      </g>\n     </g>\n    </g>\n    <g id=\"xtick_2\">\n     <g id=\"line2d_2\">\n      <g>\n       <use style=\"stroke:#000000;stroke-width:0.8;\" x=\"83.182377\" xlink:href=\"#md8877f4696\" y=\"97.443481\"/>\n      </g>\n     </g>\n     <g id=\"text_2\">\n      <!-- 20 -->\n      <defs>\n       <path d=\"M 19.1875 8.296875 \nL 53.609375 8.296875 \nL 53.609375 0 \nL 7.328125 0 \nL 7.328125 8.296875 \nQ 12.9375 14.109375 22.625 23.890625 \nQ 32.328125 33.6875 34.8125 36.53125 \nQ 39.546875 41.84375 41.421875 45.53125 \nQ 43.3125 49.21875 43.3125 52.78125 \nQ 43.3125 58.59375 39.234375 62.25 \nQ 35.15625 65.921875 28.609375 65.921875 \nQ 23.96875 65.921875 18.8125 64.3125 \nQ 13.671875 62.703125 7.8125 59.421875 \nL 7.8125 69.390625 \nQ 13.765625 71.78125 18.9375 73 \nQ 24.125 74.21875 28.421875 74.21875 \nQ 39.75 74.21875 46.484375 68.546875 \nQ 53.21875 62.890625 53.21875 53.421875 \nQ 53.21875 48.921875 51.53125 44.890625 \nQ 49.859375 40.875 45.40625 35.40625 \nQ 44.1875 33.984375 37.640625 27.21875 \nQ 31.109375 20.453125 19.1875 8.296875 \nz\n\" id=\"DejaVuSans-50\"/>\n      </defs>\n      <g transform=\"translate(76.819877 112.041919)scale(0.1 -0.1)\">\n       <use xlink:href=\"#DejaVuSans-50\"/>\n       <use x=\"63.623047\" xlink:href=\"#DejaVuSans-48\"/>\n      </g>\n     </g>\n    </g>\n    <g id=\"xtick_3\">\n     <g id=\"line2d_3\">\n      <g>\n       <use style=\"stroke:#000000;stroke-width:0.8;\" x=\"138.067623\" xlink:href=\"#md8877f4696\" y=\"97.443481\"/>\n      </g>\n     </g>\n     <g id=\"text_3\">\n      <!-- 40 -->\n      <defs>\n       <path d=\"M 37.796875 64.3125 \nL 12.890625 25.390625 \nL 37.796875 25.390625 \nz\nM 35.203125 72.90625 \nL 47.609375 72.90625 \nL 47.609375 25.390625 \nL 58.015625 25.390625 \nL 58.015625 17.1875 \nL 47.609375 17.1875 \nL 47.609375 0 \nL 37.796875 0 \nL 37.796875 17.1875 \nL 4.890625 17.1875 \nL 4.890625 26.703125 \nz\n\" id=\"DejaVuSans-52\"/>\n      </defs>\n      <g transform=\"translate(131.705123 112.041919)scale(0.1 -0.1)\">\n       <use xlink:href=\"#DejaVuSans-52\"/>\n       <use x=\"63.623047\" xlink:href=\"#DejaVuSans-48\"/>\n      </g>\n     </g>\n    </g>\n    <g id=\"xtick_4\">\n     <g id=\"line2d_4\">\n      <g>\n       <use style=\"stroke:#000000;stroke-width:0.8;\" x=\"192.952869\" xlink:href=\"#md8877f4696\" y=\"97.443481\"/>\n      </g>\n     </g>\n     <g id=\"text_4\">\n      <!-- 60 -->\n      <defs>\n       <path d=\"M 33.015625 40.375 \nQ 26.375 40.375 22.484375 35.828125 \nQ 18.609375 31.296875 18.609375 23.390625 \nQ 18.609375 15.53125 22.484375 10.953125 \nQ 26.375 6.390625 33.015625 6.390625 \nQ 39.65625 6.390625 43.53125 10.953125 \nQ 47.40625 15.53125 47.40625 23.390625 \nQ 47.40625 31.296875 43.53125 35.828125 \nQ 39.65625 40.375 33.015625 40.375 \nz\nM 52.59375 71.296875 \nL 52.59375 62.3125 \nQ 48.875 64.0625 45.09375 64.984375 \nQ 41.3125 65.921875 37.59375 65.921875 \nQ 27.828125 65.921875 22.671875 59.328125 \nQ 17.53125 52.734375 16.796875 39.40625 \nQ 19.671875 43.65625 24.015625 45.921875 \nQ 28.375 48.1875 33.59375 48.1875 \nQ 44.578125 48.1875 50.953125 41.515625 \nQ 57.328125 34.859375 57.328125 23.390625 \nQ 57.328125 12.15625 50.6875 5.359375 \nQ 44.046875 -1.421875 33.015625 -1.421875 \nQ 20.359375 -1.421875 13.671875 8.265625 \nQ 6.984375 17.96875 6.984375 36.375 \nQ 6.984375 53.65625 15.1875 63.9375 \nQ 23.390625 74.21875 37.203125 74.21875 \nQ 40.921875 74.21875 44.703125 73.484375 \nQ 48.484375 72.75 52.59375 71.296875 \nz\n\" id=\"DejaVuSans-54\"/>\n      </defs>\n      <g transform=\"translate(186.590369 112.041919)scale(0.1 -0.1)\">\n       <use xlink:href=\"#DejaVuSans-54\"/>\n       <use x=\"63.623047\" xlink:href=\"#DejaVuSans-48\"/>\n      </g>\n     </g>\n    </g>\n    <g id=\"xtick_5\">\n     <g id=\"line2d_5\">\n      <g>\n       <use style=\"stroke:#000000;stroke-width:0.8;\" x=\"247.838115\" xlink:href=\"#md8877f4696\" y=\"97.443481\"/>\n      </g>\n     </g>\n     <g id=\"text_5\">\n      <!-- 80 -->\n      <defs>\n       <path d=\"M 31.78125 34.625 \nQ 24.75 34.625 20.71875 30.859375 \nQ 16.703125 27.09375 16.703125 20.515625 \nQ 16.703125 13.921875 20.71875 10.15625 \nQ 24.75 6.390625 31.78125 6.390625 \nQ 38.8125 6.390625 42.859375 10.171875 \nQ 46.921875 13.96875 46.921875 20.515625 \nQ 46.921875 27.09375 42.890625 30.859375 \nQ 38.875 34.625 31.78125 34.625 \nz\nM 21.921875 38.8125 \nQ 15.578125 40.375 12.03125 44.71875 \nQ 8.5 49.078125 8.5 55.328125 \nQ 8.5 64.0625 14.71875 69.140625 \nQ 20.953125 74.21875 31.78125 74.21875 \nQ 42.671875 74.21875 48.875 69.140625 \nQ 55.078125 64.0625 55.078125 55.328125 \nQ 55.078125 49.078125 51.53125 44.71875 \nQ 48 40.375 41.703125 38.8125 \nQ 48.828125 37.15625 52.796875 32.3125 \nQ 56.78125 27.484375 56.78125 20.515625 \nQ 56.78125 9.90625 50.3125 4.234375 \nQ 43.84375 -1.421875 31.78125 -1.421875 \nQ 19.734375 -1.421875 13.25 4.234375 \nQ 6.78125 9.90625 6.78125 20.515625 \nQ 6.78125 27.484375 10.78125 32.3125 \nQ 14.796875 37.15625 21.921875 38.8125 \nz\nM 18.3125 54.390625 \nQ 18.3125 48.734375 21.84375 45.5625 \nQ 25.390625 42.390625 31.78125 42.390625 \nQ 38.140625 42.390625 41.71875 45.5625 \nQ 45.3125 48.734375 45.3125 54.390625 \nQ 45.3125 60.0625 41.71875 63.234375 \nQ 38.140625 66.40625 31.78125 66.40625 \nQ 25.390625 66.40625 21.84375 63.234375 \nQ 18.3125 60.0625 18.3125 54.390625 \nz\n\" id=\"DejaVuSans-56\"/>\n      </defs>\n      <g transform=\"translate(241.475615 112.041919)scale(0.1 -0.1)\">\n       <use xlink:href=\"#DejaVuSans-56\"/>\n       <use x=\"63.623047\" xlink:href=\"#DejaVuSans-48\"/>\n      </g>\n     </g>\n    </g>\n    <g id=\"xtick_6\">\n     <g id=\"line2d_6\">\n      <g>\n       <use style=\"stroke:#000000;stroke-width:0.8;\" x=\"302.723361\" xlink:href=\"#md8877f4696\" y=\"97.443481\"/>\n      </g>\n     </g>\n     <g id=\"text_6\">\n      <!-- 100 -->\n      <defs>\n       <path d=\"M 12.40625 8.296875 \nL 28.515625 8.296875 \nL 28.515625 63.921875 \nL 10.984375 60.40625 \nL 10.984375 69.390625 \nL 28.421875 72.90625 \nL 38.28125 72.90625 \nL 38.28125 8.296875 \nL 54.390625 8.296875 \nL 54.390625 0 \nL 12.40625 0 \nz\n\" id=\"DejaVuSans-49\"/>\n      </defs>\n      <g transform=\"translate(293.179611 112.041919)scale(0.1 -0.1)\">\n       <use xlink:href=\"#DejaVuSans-49\"/>\n       <use x=\"63.623047\" xlink:href=\"#DejaVuSans-48\"/>\n       <use x=\"127.246094\" xlink:href=\"#DejaVuSans-48\"/>\n      </g>\n     </g>\n    </g>\n    <g id=\"xtick_7\">\n     <g id=\"line2d_7\">\n      <g>\n       <use style=\"stroke:#000000;stroke-width:0.8;\" x=\"357.608607\" xlink:href=\"#md8877f4696\" y=\"97.443481\"/>\n      </g>\n     </g>\n     <g id=\"text_7\">\n      <!-- 120 -->\n      <g transform=\"translate(348.064857 112.041919)scale(0.1 -0.1)\">\n       <use xlink:href=\"#DejaVuSans-49\"/>\n       <use x=\"63.623047\" xlink:href=\"#DejaVuSans-50\"/>\n       <use x=\"127.246094\" xlink:href=\"#DejaVuSans-48\"/>\n      </g>\n     </g>\n    </g>\n   </g>\n   <g id=\"matplotlib.axis_2\">\n    <g id=\"ytick_1\">\n     <g id=\"line2d_8\">\n      <defs>\n       <path d=\"M 0 0 \nL -3.5 0 \n\" id=\"ma977091668\" style=\"stroke:#000000;stroke-width:0.8;\"/>\n      </defs>\n      <g>\n       <use style=\"stroke:#000000;stroke-width:0.8;\" x=\"26.925\" xlink:href=\"#ma977091668\" y=\"10.999219\"/>\n      </g>\n     </g>\n     <g id=\"text_8\">\n      <!-- 0 -->\n      <g transform=\"translate(13.5625 14.798437)scale(0.1 -0.1)\">\n       <use xlink:href=\"#DejaVuSans-48\"/>\n      </g>\n     </g>\n    </g>\n    <g id=\"ytick_2\">\n     <g id=\"line2d_9\">\n      <g>\n       <use style=\"stroke:#000000;stroke-width:0.8;\" x=\"26.925\" xlink:href=\"#ma977091668\" y=\"38.441842\"/>\n      </g>\n     </g>\n     <g id=\"text_9\">\n      <!-- 10 -->\n      <g transform=\"translate(7.2 42.24106)scale(0.1 -0.1)\">\n       <use xlink:href=\"#DejaVuSans-49\"/>\n       <use x=\"63.623047\" xlink:href=\"#DejaVuSans-48\"/>\n      </g>\n     </g>\n    </g>\n    <g id=\"ytick_3\">\n     <g id=\"line2d_10\">\n      <g>\n       <use style=\"stroke:#000000;stroke-width:0.8;\" x=\"26.925\" xlink:href=\"#ma977091668\" y=\"65.884465\"/>\n      </g>\n     </g>\n     <g id=\"text_10\">\n      <!-- 20 -->\n      <g transform=\"translate(7.2 69.683683)scale(0.1 -0.1)\">\n       <use xlink:href=\"#DejaVuSans-50\"/>\n       <use x=\"63.623047\" xlink:href=\"#DejaVuSans-48\"/>\n      </g>\n     </g>\n    </g>\n    <g id=\"ytick_4\">\n     <g id=\"line2d_11\">\n      <g>\n       <use style=\"stroke:#000000;stroke-width:0.8;\" x=\"26.925\" xlink:href=\"#ma977091668\" y=\"93.327088\"/>\n      </g>\n     </g>\n     <g id=\"text_11\">\n      <!-- 30 -->\n      <defs>\n       <path d=\"M 40.578125 39.3125 \nQ 47.65625 37.796875 51.625 33 \nQ 55.609375 28.21875 55.609375 21.1875 \nQ 55.609375 10.40625 48.1875 4.484375 \nQ 40.765625 -1.421875 27.09375 -1.421875 \nQ 22.515625 -1.421875 17.65625 -0.515625 \nQ 12.796875 0.390625 7.625 2.203125 \nL 7.625 11.71875 \nQ 11.71875 9.328125 16.59375 8.109375 \nQ 21.484375 6.890625 26.8125 6.890625 \nQ 36.078125 6.890625 40.9375 10.546875 \nQ 45.796875 14.203125 45.796875 21.1875 \nQ 45.796875 27.640625 41.28125 31.265625 \nQ 36.765625 34.90625 28.71875 34.90625 \nL 20.21875 34.90625 \nL 20.21875 43.015625 \nL 29.109375 43.015625 \nQ 36.375 43.015625 40.234375 45.921875 \nQ 44.09375 48.828125 44.09375 54.296875 \nQ 44.09375 59.90625 40.109375 62.90625 \nQ 36.140625 65.921875 28.71875 65.921875 \nQ 24.65625 65.921875 20.015625 65.03125 \nQ 15.375 64.15625 9.8125 62.3125 \nL 9.8125 71.09375 \nQ 15.4375 72.65625 20.34375 73.4375 \nQ 25.25 74.21875 29.59375 74.21875 \nQ 40.828125 74.21875 47.359375 69.109375 \nQ 53.90625 64.015625 53.90625 55.328125 \nQ 53.90625 49.265625 50.4375 45.09375 \nQ 46.96875 40.921875 40.578125 39.3125 \nz\n\" id=\"DejaVuSans-51\"/>\n      </defs>\n      <g transform=\"translate(7.2 97.126306)scale(0.1 -0.1)\">\n       <use xlink:href=\"#DejaVuSans-51\"/>\n       <use x=\"63.623047\" xlink:href=\"#DejaVuSans-48\"/>\n      </g>\n     </g>\n    </g>\n   </g>\n   <g id=\"patch_3\">\n    <path d=\"M 26.925 97.443481 \nL 26.925 9.627088 \n\" style=\"fill:none;stroke:#000000;stroke-linecap:square;stroke-linejoin:miter;stroke-width:0.8;\"/>\n   </g>\n   <g id=\"patch_4\">\n    <path d=\"M 361.725 97.443481 \nL 361.725 9.627088 \n\" style=\"fill:none;stroke:#000000;stroke-linecap:square;stroke-linejoin:miter;stroke-width:0.8;\"/>\n   </g>\n   <g id=\"patch_5\">\n    <path d=\"M 26.925 97.443481 \nL 361.725 97.443481 \n\" style=\"fill:none;stroke:#000000;stroke-linecap:square;stroke-linejoin:miter;stroke-width:0.8;\"/>\n   </g>\n   <g id=\"patch_6\">\n    <path d=\"M 26.925 9.627088 \nL 361.725 9.627088 \n\" style=\"fill:none;stroke:#000000;stroke-linecap:square;stroke-linejoin:miter;stroke-width:0.8;\"/>\n   </g>\n  </g>\n </g>\n <defs>\n  <clipPath id=\"pceb23ee948\">\n   <rect height=\"87.816393\" width=\"334.8\" x=\"26.925\" y=\"9.627088\"/>\n  </clipPath>\n </defs>\n</svg>\n",
      "image/png": "[encoded data removed]"
     },
     "metadata": {
      "needs_background": "light"
     }
    }
   ],
   "source": [
    "dataiter = iter(trainloader)\n",
    "images, labels = dataiter.next()\n",
    "\n",
    "img_grid = torchvision.utils.make_grid(images)\n",
    "\n",
    "imshow(img_grid)\n",
    "\n",
    "writer.add_image('four_fashion_mnist_images', img_grid)\n",
    "writer.add_graph(net, images)\n",
    "writer.close()\n",
    "\n"
   ]
  },
  {
   "cell_type": "code",
   "execution_count": null,
   "metadata": {},
   "outputs": [],
   "source": []
  }
 ],
 "metadata": {
  "kernelspec": {
   "display_name": "Python 3",
   "language": "python",
   "name": "python3"
  },
  "language_info": {
   "codemirror_mode": {
    "name": "ipython",
    "version": 3
   },
   "file_extension": ".py",
   "mimetype": "text/x-python",
   "name": "python",
   "nbconvert_exporter": "python",
   "pygments_lexer": "ipython3",
   "version": "3.8.5"
  }
 },
 "nbformat": 4,
 "nbformat_minor": 5
}